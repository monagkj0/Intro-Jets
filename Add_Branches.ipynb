{
 "cells": [
  {
   "cell_type": "markdown",
   "id": "73deefe4",
   "metadata": {},
   "source": [
    "This simple script adds the common columns Mjj, Δeta, Δphi, and chi dijet to an input ROOT file. It then outputs a snapshot of the new file."
   ]
  },
  {
   "cell_type": "code",
   "execution_count": null,
   "id": "a40662b3",
   "metadata": {},
   "outputs": [
    {
     "name": "stdout",
     "output_type": "stream",
     "text": [
      "{ \"DeltaEta\", \"DeltaPhi\", \"DeltaY\", \"Mjj\", \"Q2\", \"chi\", \"id1\", \"id2\", \"jet1_Cons_E\", \"jet1_Cons_ID\", \"jet1_Cons_Px\", \"jet1_Cons_Py\", \"jet1_Cons_Pz\", \"jet1_E\", \"jet1_eta\", \"jet1_mass\", \"jet1_nChargedCons\", \"jet1_nCons\", \"jet1_partonID\", \"jet1_phi\", \"jet1_pt\", \"jet1_px\", \"jet1_py\", \"jet1_pz\", \"jet1_vec\", \"jet2_Cons_E\", \"jet2_Cons_ID\", \"jet2_Cons_Px\", \"jet2_Cons_Py\", \"jet2_Cons_Pz\", \"jet2_E\", \"jet2_eta\", \"jet2_mass\", \"jet2_nChargedCons\", \"jet2_nCons\", \"jet2_partonID\", \"jet2_phi\", \"jet2_pt\", \"jet2_px\", \"jet2_py\", \"jet2_pz\", \"jet2_vec\", \"x1\", \"x2\", \"y1\", \"y2\" }\n"
     ]
    },
    {
     "data": {
      "text/plain": [
       "<cppyy.gbl.ROOT.RDF.RResultPtr<ROOT::RDF::RInterface<ROOT::Detail::RDF::RLoopManager,void> > object at 0x563a22ba6fb0>"
      ]
     },
     "execution_count": 1,
     "metadata": {},
     "output_type": "execute_result"
    }
   ],
   "source": [
    "import ROOT\n",
    "import numpy as np\n",
    "import pandas as pd\n",
    "\n",
    "fileName = \"/eos/user/k/kmonagha/dijet_events_data/ADD_events/15TeV/ADDbsm_LambdaT15000_3000_3097.root\"\n",
    "treeName = \"dijets\"\n",
    "d = ROOT.RDataFrame(treeName, fileName)\n",
    "\n",
    "#Create new columns for jet 1 and 2 as 4 variable vectors of pt,eta,phi,E\n",
    "\n",
    "ROOT.gInterpreter.Declare('#include \"Math/VectorUtil.h\"')\n",
    "\n",
    "d = d.Define(\"jet1_vec\", \"ROOT::Math::PtEtaPhiEVector(jet1_pt, jet1_eta, jet1_phi, jet1_E)\")\n",
    "d = d.Define(\"jet2_vec\", \"ROOT::Math::PtEtaPhiEVector(jet2_pt, jet2_eta, jet2_phi, jet2_E)\")\n",
    "\n",
    "#Add Mjj, ΔEta, ΔPhi, and Chi\n",
    "\n",
    "d = d.Define(\"Mjj\", \"(jet1_vec + jet2_vec).M()\")\n",
    "d = d.Define(\"DeltaEta\", \"fabs(jet1_eta - jet2_eta)\")\n",
    "d = d.Define(\"DeltaPhi\", \"ROOT::Math::VectorUtil::DeltaPhi(jet1_vec, jet2_vec)\")\n",
    "\n",
    "d = d.Define(\"y1\", \"jet1_vec.Rapidity()\")\n",
    "d = d.Define(\"y2\", \"jet2_vec.Rapidity()\")\n",
    "d = d.Define(\"DeltaY\", \"fabs(y1 - y2)\")\n",
    "d = d.Define(\"chi\", \"exp(DeltaY)\")\n",
    "\n",
    "output_file = \"/eos/user/k/kmonagha/dijet_events_data/ADD_events/15TeV/ADDbsm_LambdaT15000_full_3000_3097.root\"\n",
    "output_tree = \"dijets\"\n",
    "\n",
    "d.Snapshot(output_tree,output_file)"
   ]
  },
  {
   "cell_type": "code",
   "execution_count": null,
   "id": "9e26be5b",
   "metadata": {},
   "outputs": [],
   "source": [
    "for col in d.GetColumnNames():\n",
    "    print(col)"
   ]
  }
 ],
 "metadata": {
  "kernelspec": {
   "display_name": "Python 3 (ipykernel)",
   "language": "python",
   "name": "python3"
  },
  "language_info": {
   "codemirror_mode": {
    "name": "ipython",
    "version": 3
   },
   "file_extension": ".py",
   "mimetype": "text/x-python",
   "name": "python",
   "nbconvert_exporter": "python",
   "pygments_lexer": "ipython3",
   "version": "3.11.11"
  }
 },
 "nbformat": 4,
 "nbformat_minor": 5
}
